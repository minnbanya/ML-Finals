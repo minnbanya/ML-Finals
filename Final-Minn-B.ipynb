{
  "cells": [
    {
      "cell_type": "markdown",
      "metadata": {
        "id": "tanGUW6DrdfS"
      },
      "source": [
        "# ML - Final - 2023\n",
        "\n",
        "## Instruction\n",
        "\n",
        "- Modify this file to be Final-<Your FirstName-[First Letter of Last Name]>, e.g., <code>Final-Chaklam-S.ipynb</code>\n",
        "- This exam is open-booked; open-internet, but no interactions with human beings or ChatGPT.\n",
        "- The completed exams shall be submitted at the virtual learning environment.\n",
        "- All code should be **complemented with comments**, unless it's really obvious.  **We reserve the privilege to give you zero for any part of the question where the benefit of doubt is not justified**"
      ]
    },
    {
      "cell_type": "markdown",
      "metadata": {
        "id": "py_UElLhrEnp"
      },
      "source": [
        "# Coding\n",
        "\n",
        "#### Summary\n",
        "In this section, you will be dealing with a classification problem. You will be generating your own data, training and evaluating them. You will be asked to create a neural network according to the instructions.\n",
        "\n",
        "The generating data will be a 2d-data `(28, 28)` being arranged similar to the input shape of `nn.Conv2d` with channel = 1, height = 28 and width = 28 `(batch_size, channel, height, width)`\n",
        "\n",
        "You will then be asked to create a network consisting of 2 `nn.Conv2d` layers followed by a `nn.Linear` layer. After the `nn.Linear` layer, we send the data to a `nn.LSTM` layer where `num_layer` and `hidden_size` can be defined. This `hidden_size` is set to be the same as `num_classes`. The output of lstm is then directly returned."
      ]
    },
    {
      "cell_type": "markdown",
      "metadata": {
        "id": "8HRaDlgpDqR1"
      },
      "source": [
        "Import Libraries"
      ]
    },
    {
      "cell_type": "code",
      "execution_count": 1,
      "metadata": {
        "id": "3kcPxgAlPve4"
      },
      "outputs": [],
      "source": [
        "import torch\n",
        "import torch.nn as nn\n",
        "import torch.nn.functional as F\n",
        "from torch.utils.data import DataLoader\n",
        "from torchvision import datasets, transforms, models # add models to the list\n",
        "from torchvision.utils import make_grid\n",
        "import os\n",
        "\n",
        "import numpy as np\n",
        "import pandas as pd\n",
        "import matplotlib.pyplot as plt\n",
        "%matplotlib inline\n",
        "\n",
        "# ignore harmless warnings\n",
        "import warnings\n",
        "warnings.filterwarnings(\"ignore\")"
      ]
    },
    {
      "cell_type": "markdown",
      "metadata": {
        "id": "dN4md_BKR1pL"
      },
      "source": [
        "1. Generate a 4 class 2d-data with 70000 samples. (10 points)\n",
        "- Class 0 data is sampled from a normal distribution with mean = 0, std = 1, size = `(28,28)`\n",
        "- Class 1 data is sampled from a normal distribution with mean = 5, std = 1, size = `(28,28)`\n",
        "- Class 2 data is sampled from a normal distribution with mean = 15, std = 1, size = `(28,28)`\n",
        "- Class 3 data is sampled from a normal distribution with mean = 20, std = 1, size = `(28,28)`\n",
        "\n",
        "The final shape of *x* should be `(70000, 1, 28, 28)` and *y* should be `(70000,)`"
      ]
    },
    {
      "cell_type": "code",
      "execution_count": null,
      "metadata": {
        "id": "zjr08O6BSith"
      },
      "outputs": [],
      "source": []
    },
    {
      "cell_type": "markdown",
      "metadata": {
        "id": "VyeGf8jzYn_g"
      },
      "source": [
        "In case you are unable to do question 1, Use the following lines of code to generate your data and continue with question 3. But be aware that no marks will be given to question 1 and question 2"
      ]
    },
    {
      "cell_type": "code",
      "execution_count": 2,
      "metadata": {
        "id": "nLD-0uffYnDN"
      },
      "outputs": [],
      "source": [
        "import torchvision\n",
        "training_data = torchvision.datasets.MNIST('./data/', train=True, download=True,\n",
        "                             transform=torchvision.transforms.Compose([\n",
        "                               torchvision.transforms.ToTensor(),\n",
        "                               torchvision.transforms.Normalize(\n",
        "                                 (0.5,), (0.5,))\n",
        "                             ]))\n",
        "\n",
        "testing_data  = torchvision.datasets.MNIST('./data/', train=False, download=True,\n",
        "                             transform=torchvision.transforms.Compose([\n",
        "                               torchvision.transforms.ToTensor(),\n",
        "                               torchvision.transforms.Normalize(\n",
        "                                 (0.5,), (0.5,))\n",
        "                             ]))"
      ]
    },
    {
      "cell_type": "markdown",
      "metadata": {
        "id": "i4gqWf-BAnfK"
      },
      "source": [
        "2. Split your data into train and test with the split ratio of 1/7 (5 points)"
      ]
    },
    {
      "cell_type": "code",
      "execution_count": 3,
      "metadata": {
        "id": "3JGmI82aYOFt"
      },
      "outputs": [],
      "source": [
        "# split with a ratio of 3/7 with 30% of dataset used for testing \n",
        "# train_set, test_set = torch.utils.data.random_split(train_data, [60000, 10000])"
      ]
    },
    {
      "cell_type": "markdown",
      "metadata": {
        "id": "hVfzHO4tSutV"
      },
      "source": [
        "3. Check the size of your train and test sets (5 points)"
      ]
    },
    {
      "cell_type": "code",
      "execution_count": 4,
      "metadata": {
        "id": "RzMQPWlgScTA"
      },
      "outputs": [
        {
          "data": {
            "text/plain": [
              "(60000, 10000)"
            ]
          },
          "execution_count": 4,
          "metadata": {},
          "output_type": "execute_result"
        }
      ],
      "source": [
        "# train_set.shape, test_set.shape\n",
        "len(training_data), len(testing_data)"
      ]
    },
    {
      "cell_type": "markdown",
      "metadata": {
        "id": "zI3okI8lSyA9"
      },
      "source": [
        "4. Set up your train and test loader with a batch size of 32 and `shuffle = True` (10 points)"
      ]
    },
    {
      "cell_type": "code",
      "execution_count": 5,
      "metadata": {
        "id": "mU-HO84OSizY"
      },
      "outputs": [],
      "source": [
        "torch.manual_seed(42)\n",
        "train_loader = DataLoader(training_data, batch_size=32, shuffle=True)\n",
        "test_loader  = DataLoader(testing_data, batch_size=32, shuffle=True)"
      ]
    },
    {
      "cell_type": "markdown",
      "metadata": {
        "id": "MgKC7RaHS6At"
      },
      "source": [
        "5. Check the shape of your batch. It should be `[batchsize = 32, channel = 1, height = 28, width = 28]` (5 points)"
      ]
    },
    {
      "cell_type": "code",
      "execution_count": 6,
      "metadata": {
        "id": "-AFbESMhTx8q"
      },
      "outputs": [
        {
          "data": {
            "text/plain": [
              "torch.Size([32, 1, 28, 28])"
            ]
          },
          "execution_count": 6,
          "metadata": {},
          "output_type": "execute_result"
        }
      ],
      "source": [
        "for sample, label in train_loader:\n",
        "    break\n",
        "sample.shape"
      ]
    },
    {
      "cell_type": "markdown",
      "metadata": {
        "id": "-DV6rOMhTcSt"
      },
      "source": [
        "6. Plot 6 samples of any classes (10 points)"
      ]
    },
    {
      "cell_type": "code",
      "execution_count": 7,
      "metadata": {
        "colab": {
          "base_uri": "https://localhost:8080/",
          "height": 399
        },
        "id": "PhVfLFEUT9Aj",
        "outputId": "33a04353-06d4-47e7-ebda-77513a94672e"
      },
      "outputs": [
        {
          "name": "stderr",
          "output_type": "stream",
          "text": [
            "Clipping input data to the valid range for imshow with RGB data ([0..1] for floats or [0..255] for integers).\n"
          ]
        },
        {
          "name": "stdout",
          "output_type": "stream",
          "text": [
            "Label: [1 2 8 5 2 6]\n",
            "Class: 1 - one 2 - two 8 - eight 5 - five 2 - two 6 - six 9 - nine 9 - nine 9 - nine 4 - four\n"
          ]
        },
        {
          "data": {
            "image/png": "[encoded data removed]",
            "text/plain": [
              "<Figure size 1200x400 with 1 Axes>"
            ]
          },
          "metadata": {},
          "output_type": "display_data"
        }
      ],
      "source": [
        "class_names = training_data.classes\n",
        "# Print the labels\n",
        "print('Label:', label[0:6].numpy())\n",
        "print('Class:', *np.array([class_names[i] for i in label[0:10]]))\n",
        "\n",
        "im = make_grid(sample[0:6], nrow=5)  # the default nrow is 8\n",
        "\n",
        "# # Inverse normalize the images\n",
        "# inv_normalize = transforms.Normalize(\n",
        "#     mean=[-0.485/0.229, -0.456/0.224, -0.406/0.225],\n",
        "#     std=[1/0.229, 1/0.224, 1/0.225]\n",
        "# )\n",
        "# im_inv = inv_normalize(im)\n",
        "\n",
        "# Print the images\n",
        "plt.figure(figsize=(12,4))\n",
        "plt.imshow(np.transpose(im.numpy(), (1, 2, 0)));"
      ]
    },
    {
      "cell_type": "markdown",
      "metadata": {
        "id": "jPvl4EyRfb0s"
      },
      "source": [
        "If you use MNIST"
      ]
    },
    {
      "cell_type": "code",
      "execution_count": null,
      "metadata": {
        "colab": {
          "base_uri": "https://localhost:8080/",
          "height": 284
        },
        "id": "c5QTjIOcfdJf",
        "outputId": "88e5f37a-3ef1-4aad-8319-e52789c596be"
      },
      "outputs": [],
      "source": []
    },
    {
      "cell_type": "markdown",
      "metadata": {
        "id": "gjsFtdXgTxtN"
      },
      "source": [
        "7. Configure your device. (5 points)"
      ]
    },
    {
      "cell_type": "code",
      "execution_count": 8,
      "metadata": {
        "id": "-SBaWTaIasS3"
      },
      "outputs": [
        {
          "name": "stdout",
          "output_type": "stream",
          "text": [
            "Device:  cuda:0\n"
          ]
        }
      ],
      "source": [
        "#We can check whether we have gpu\n",
        "device = torch.device(\"cuda:0\" if (torch.cuda.is_available()) else \"cpu\")\n",
        "print(\"Device: \", device)"
      ]
    },
    {
      "cell_type": "markdown",
      "metadata": {
        "id": "p5CFDBK8XVZA"
      },
      "source": [
        "8. Define your class called `Net` with the following layers (40 points)\n",
        "- cnn2d layer 1 with `in_channel = 1`, `out_channel = 10`, `kernel size = 5`, dropout of `p = 0.5`, `maxpool` and `relu` as its activation function\n",
        "- cnn2d layer 2 with `in_channel = 10`, `out_channel = 20`, `kernel size = 5`, dropout of `p = 0.5`, `maxpool` and `relu` as its activation function\n",
        "- linear layer with output of 25\n",
        "- lstm with `num_layer = 2` and set hidden size to be num_classes\n",
        "\n",
        "\n"
      ]
    },
    {
      "cell_type": "code",
      "execution_count": 9,
      "metadata": {
        "id": "JgQ7KEGSolg0"
      },
      "outputs": [],
      "source": [
        "class Net(nn.Module):\n",
        "    def __init__(self, num_layers = 2, num_classes = 10):\n",
        "        super().__init__()\n",
        "        self.conv1 = nn.Conv2d(1, 10, 5, 1)\n",
        "        self.dropout1 = nn.Dropout(p=0.5)\n",
        "        self.conv2 = nn.Conv2d(10, 20, 5, 1)\n",
        "        self.dropout2 = nn.Dropout(p=0.5)\n",
        "        self.fc1 = nn.Linear(4*4*20, 25)\n",
        "        self.fc2 = nn.Linear(25,10)\n",
        "        self.lstm = nn.LSTM(input_size=25, hidden_size=num_classes, num_layers=num_layers)\n",
        "        # self.fc3 = nn.Linear(num_classes, 1)\n",
        "\n",
        "    def forward(self, X):\n",
        "        X = F.relu(self.conv1(X))\n",
        "        X = self.dropout1(X)\n",
        "        X = F.max_pool2d(X, 2, 2)\n",
        "        X = F.relu(self.conv2(X))\n",
        "        X = self.dropout2(X)\n",
        "        X = F.max_pool2d(X, 2, 2)\n",
        "        X = X.view(-1, 4*4*20)\n",
        "        X = F.relu(self.fc1(X))\n",
        "        X = self.fc2(X)\n",
        "        # X, _ = self.lstm(X.reshape(X.shape[0], 1, -1))\n",
        "        # X_out = self.fc3(X_out.view(len(X), -1)) \n",
        "        return X"
      ]
    },
    {
      "cell_type": "markdown",
      "metadata": {
        "id": "ZX-z2gwEV0xq"
      },
      "source": [
        "9. Create a model object with `num_layers of lstm = 2`, `hidden_size` and `num_classes = 4` (10 points)\n",
        "\n",
        "If you use MNIST hidden_size and  `num_classes = 10`\n"
      ]
    },
    {
      "cell_type": "code",
      "execution_count": 10,
      "metadata": {
        "id": "c5XXKpoNbryI"
      },
      "outputs": [
        {
          "data": {
            "text/plain": [
              "Net(\n",
              "  (conv1): Conv2d(1, 10, kernel_size=(5, 5), stride=(1, 1))\n",
              "  (dropout1): Dropout(p=0.5, inplace=False)\n",
              "  (conv2): Conv2d(10, 20, kernel_size=(5, 5), stride=(1, 1))\n",
              "  (dropout2): Dropout(p=0.5, inplace=False)\n",
              "  (fc1): Linear(in_features=320, out_features=25, bias=True)\n",
              "  (fc2): Linear(in_features=25, out_features=10, bias=True)\n",
              "  (lstm): LSTM(25, 10, num_layers=2)\n",
              ")"
            ]
          },
          "execution_count": 10,
          "metadata": {},
          "output_type": "execute_result"
        }
      ],
      "source": [
        "model = Net()\n",
        "model = model.to(device)\n",
        "model"
      ]
    },
    {
      "cell_type": "markdown",
      "metadata": {
        "id": "oB5mzlq1hUjr"
      },
      "source": [
        "10. Define an appropriate loss function for classification of this dataset (2.5 points)"
      ]
    },
    {
      "cell_type": "code",
      "execution_count": 11,
      "metadata": {
        "id": "qMwV-eeJhZiM"
      },
      "outputs": [],
      "source": [
        "criterion = nn.CrossEntropyLoss()"
      ]
    },
    {
      "cell_type": "markdown",
      "metadata": {
        "id": "rg8zUUMGhb3D"
      },
      "source": [
        "11. Define your optimizer as `Adam` with learning rate of `0.001` (5 points)"
      ]
    },
    {
      "cell_type": "code",
      "execution_count": 12,
      "metadata": {
        "id": "IOpYvWwJcSDm"
      },
      "outputs": [],
      "source": [
        "optimizer = torch.optim.Adam(model.parameters(), lr = 0.001)"
      ]
    },
    {
      "cell_type": "code",
      "execution_count": 13,
      "metadata": {},
      "outputs": [
        {
          "data": {
            "text/plain": [
              "(torch.Size([32, 1, 28, 28]), torch.Size([32, 10]))"
            ]
          },
          "execution_count": 13,
          "metadata": {},
          "output_type": "execute_result"
        }
      ],
      "source": [
        "for s, l in train_loader:\n",
        "    s = s.to(device)\n",
        "    l = l.to(device)\n",
        "\n",
        "    yhat = model(s)\n",
        "    break\n",
        "s.shape, yhat.shape"
      ]
    },
    {
      "cell_type": "markdown",
      "metadata": {
        "id": "UHy0PqUZiPbF"
      },
      "source": [
        "12. Define your train function and train your model with `n_epoch = 3` (15 points)"
      ]
    },
    {
      "cell_type": "code",
      "execution_count": 14,
      "metadata": {
        "id": "i1jZoAG_c5Yl"
      },
      "outputs": [
        {
          "name": "stdout",
          "output_type": "stream",
          "text": [
            "Epoch:0 : Loss: 0.014785928651690483 : accuracy:  91.855%\n",
            "Epoch:1 : Loss: 0.05406777560710907 : accuracy:  97.003%\n",
            "Epoch:2 : Loss: 0.09658777713775635 : accuracy:  97.582%\n",
            "\n",
            "Duration: 29 seconds\n"
          ]
        }
      ],
      "source": [
        "n_epoch = 3\n",
        "\n",
        "import time\n",
        "start_time = time.time()\n",
        "\n",
        "train_losses = []\n",
        "train_correct = []\n",
        "\n",
        "for epoch in range(n_epoch):\n",
        "    trn_corr = 0\n",
        "    for images, labels in train_loader:\n",
        "        images = images.to(device)\n",
        "        labels = labels.to(device)\n",
        "\n",
        "        yhat = model(images)\n",
        "\n",
        "        predicted = torch.max(yhat.data, 1)[1]\n",
        "        batch_corr = (predicted == labels).sum()\n",
        "        trn_corr += batch_corr\n",
        "\n",
        "        loss = criterion(yhat, labels)\n",
        "        optimizer.zero_grad()\n",
        "        loss.backward()\n",
        "        optimizer.step()\n",
        "    print(f\"Epoch:{epoch} : Loss: {loss} : accuracy: {trn_corr.item()*100/len(training_data):7.3f}%\")\n",
        "    train_losses.append(loss)\n",
        "    train_correct.append(trn_corr)\n",
        "\n",
        "print(f'\\nDuration: {time.time() - start_time:.0f} seconds')"
      ]
    },
    {
      "cell_type": "markdown",
      "metadata": {
        "id": "hK7_TsS5iaGi"
      },
      "source": [
        "13. Plot your train losses and accuracies (10 points)"
      ]
    },
    {
      "cell_type": "code",
      "execution_count": 15,
      "metadata": {
        "id": "VOg2XS01sAsI"
      },
      "outputs": [
        {
          "data": {
            "image/png": "[encoded data removed]",
            "text/plain": [
              "<Figure size 640x480 with 1 Axes>"
            ]
          },
          "metadata": {},
          "output_type": "display_data"
        },
        {
          "data": {
            "image/png": "[encoded data removed]",
            "text/plain": [
              "<Figure size 640x480 with 1 Axes>"
            ]
          },
          "metadata": {},
          "output_type": "display_data"
        }
      ],
      "source": [
        "train_losses = [loss.cpu().data for loss in train_losses]\n",
        "plt.figure(1)\n",
        "plt.plot(train_losses, label='training loss')\n",
        "plt.title('Loss at the end of each epoch')\n",
        "plt.legend();\n",
        "\n",
        "train_accuracy = [acc.item() / len(training_data) * 100 for acc in train_correct]\n",
        "plt.figure(2)\n",
        "plt.plot(train_accuracy, label='training accuracy')\n",
        "plt.title('Loss at the end of each epoch')\n",
        "plt.legend();\n",
        "\n",
        "plt.show()"
      ]
    },
    {
      "cell_type": "markdown",
      "metadata": {
        "id": "UCBLreP1iUUk"
      },
      "source": [
        "14. Evaluate your model with your test set (10 points)"
      ]
    },
    {
      "cell_type": "code",
      "execution_count": 19,
      "metadata": {
        "id": "nt3fbR1EecZF"
      },
      "outputs": [
        {
          "name": "stdout",
          "output_type": "stream",
          "text": [
            "Test accuracy: 9867/10000 =  98.670%\n"
          ]
        }
      ],
      "source": [
        "model.eval()\n",
        "\n",
        "with torch.no_grad():\n",
        "    correct = 0\n",
        "    for sample, label in test_loader:\n",
        "        sample = sample.to(device)\n",
        "        label = label.to(device)\n",
        "        yhat = model(sample)\n",
        "        predicted = torch.max(yhat,1)[1]\n",
        "        correct += (predicted == label).sum()\n",
        "print(f'Test accuracy: {correct.item()}/{len(testing_data)} = {correct.item()*100/(len(testing_data)):7.3f}%')\n",
        "        "
      ]
    }
  ],
  "metadata": {
    "accelerator": "GPU",
    "colab": {
      "provenance": []
    },
    "kernelspec": {
      "display_name": "Python 3",
      "name": "python3"
    },
    "language_info": {
      "codemirror_mode": {
        "name": "ipython",
        "version": 3
      },
      "file_extension": ".py",
      "mimetype": "text/x-python",
      "name": "python",
      "nbconvert_exporter": "python",
      "pygments_lexer": "ipython3",
      "version": "3.11.6"
    }
  },
  "nbformat": 4,
  "nbformat_minor": 0
}
